{
 "cells": [
  {
   "cell_type": "code",
   "execution_count": 137,
   "metadata": {},
   "outputs": [],
   "source": [
    "import numpy as np"
   ]
  },
  {
   "cell_type": "code",
   "execution_count": 138,
   "metadata": {},
   "outputs": [
    {
     "name": "stdout",
     "output_type": "stream",
     "text": [
      "Couldn't find program: 'false'\n"
     ]
    }
   ],
   "source": [
    "%%script false --no-raise-error\n",
    "# Above script disables this block\n",
    "\n",
    "# Quad X\n",
    "m1 = [-1,1,1,1]\n",
    "m2 = [1,-1,1,1]\n",
    "m3 = [1,1,-1,1]\n",
    "m4 = [-1,-1,-1,1]\n",
    "motors = [m1,m2,m3,m4]"
   ]
  },
  {
   "cell_type": "code",
   "execution_count": 139,
   "metadata": {},
   "outputs": [],
   "source": [
    "# %%script false --no-raise-error\n",
    "# Above script disables this block\n",
    "\n",
    "# Hexa X\n",
    "m1 = [-1, 0, -1, 1]\n",
    "m2 = [1, 0, 1, 1]\n",
    "m3 = [0.5,-0.866,-1, 1]\n",
    "m4 = [-0.5,0.866,1, 1]\n",
    "m5 = [-0.5,-0.866,1, 1]\n",
    "m6 = [0.5,0.866,-1, 1]\n",
    "motors = [m1,m2,m3,m4,m5,m6]"
   ]
  },
  {
   "cell_type": "code",
   "execution_count": 140,
   "metadata": {},
   "outputs": [
    {
     "name": "stdout",
     "output_type": "stream",
     "text": [
      "Actuator Effectiveness Matrix: \n",
      "[[-1, 0, -1, 1], [1, 0, 1, 1], [0.5, -0.866, -1, 1], [-0.5, 0.866, 1, 1], [-0.5, -0.866, 1, 1], [0.5, 0.866, -1, 1]]\n",
      "Control Allocation Matrix: \n",
      "[[-0.33333333  0.33333333  0.16666667 -0.16666667 -0.16666667  0.16666667]\n",
      " [ 0.          0.         -0.2886836   0.2886836  -0.2886836   0.2886836 ]\n",
      " [-0.16666667  0.16666667 -0.16666667  0.16666667  0.16666667 -0.16666667]\n",
      " [ 0.16666667  0.16666667  0.16666667  0.16666667  0.16666667  0.16666667]]\n"
     ]
    }
   ],
   "source": [
    "EA = []\n",
    "for motor in motors:\n",
    "    # 0 - roll, 1 - pitch, 2 - yaw, 3 - thrust\n",
    "    m = [motor[0], motor[1], motor[2], motor[3]]\n",
    "    EA.append(m)\n",
    "CA = np.linalg.pinv(EA)\n",
    "\n",
    "print(f\"Actuator Effectiveness Matrix: \\n{EA}\")\n",
    "print(f\"Control Allocation Matrix: \\n{CA}\")"
   ]
  },
  {
   "cell_type": "code",
   "execution_count": 141,
   "metadata": {},
   "outputs": [],
   "source": [
    "# Control allocation to Torques\n",
    "# [Tp, Tq, Tr, T] = [CA] * [u1, u2, u3, u4, u5, u6]\n",
    "Tp = Tq = Tr = 0\n",
    "T = 10\n",
    "Torq = [Tp, Tq, Tr, T]\n",
    "u_input = [0, 0, 0, 0, 0, 0]"
   ]
  },
  {
   "cell_type": "code",
   "execution_count": 142,
   "metadata": {},
   "outputs": [
    {
     "name": "stdout",
     "output_type": "stream",
     "text": [
      "[[-1.00000000e+00 -1.12940496e-16 -1.00000000e+00  1.00000000e+00]\n",
      " [ 1.00000000e+00  3.44445297e-16  1.00000000e+00  1.00000000e+00]\n",
      " [ 5.00000000e-01 -8.66000000e-01 -1.00000000e+00  1.00000000e+00]\n",
      " [-5.00000000e-01  8.66000000e-01  1.00000000e+00  1.00000000e+00]\n",
      " [-5.00000000e-01 -8.66000000e-01  1.00000000e+00  1.00000000e+00]\n",
      " [ 5.00000000e-01  8.66000000e-01 -1.00000000e+00  1.00000000e+00]]\n"
     ]
    }
   ],
   "source": [
    "CA_inv = np.linalg.pinv(CA)\n",
    "print(CA_inv)"
   ]
  },
  {
   "cell_type": "code",
   "execution_count": 143,
   "metadata": {},
   "outputs": [
    {
     "name": "stdout",
     "output_type": "stream",
     "text": [
      "[10. 10. 10. 10. 10. 10.]\n"
     ]
    }
   ],
   "source": [
    "# Compute u1,... u6 for equilibrium with some thrust T\n",
    "#  u_input = CA_inv * Torq\n",
    "u_input = np.matmul(CA_inv, Torq)\n",
    "print(u_input)\n"
   ]
  },
  {
   "cell_type": "code",
   "execution_count": 144,
   "metadata": {},
   "outputs": [
    {
     "name": "stdout",
     "output_type": "stream",
     "text": [
      "[[ 0.          0.33333333  0.16666667 -0.16666667 -0.16666667  0.16666667]\n",
      " [ 0.          0.         -0.2886836   0.2886836  -0.2886836   0.2886836 ]\n",
      " [ 0.          0.16666667 -0.16666667  0.16666667  0.16666667 -0.16666667]\n",
      " [ 0.          0.16666667  0.16666667  0.16666667  0.16666667  0.16666667]]\n"
     ]
    }
   ],
   "source": [
    "# Remove 1 motor/ disable 1 motor\n",
    "CA_fault = CA\n",
    "CA_fault[:, 0] =  0\n",
    "print(CA_fault)"
   ]
  },
  {
   "cell_type": "code",
   "execution_count": 145,
   "metadata": {},
   "outputs": [
    {
     "name": "stdout",
     "output_type": "stream",
     "text": [
      "[3.33333333e+00 3.55271368e-15 1.66666667e+00 8.33333333e+00]\n",
      "[10. 10. 10. 10. 10. 10.]\n",
      "[ 0. 10. 10. 10. 10. 10.]\n",
      "[3.33333333e+00 3.55271368e-15 1.66666667e+00 8.33333333e+00]\n"
     ]
    }
   ],
   "source": [
    "# Use u1,...u6 values from equilibrium for finding Torque values instead\n",
    "# [Tp, Tq, Tr, T] = [CA_fault] * [u1, u2, u3, u4, u5, u6]\n",
    "# Torq_fault = CA_fault * u_input\n",
    "Torq_fault = np.matmul(CA_fault, u_input)\n",
    "print(Torq_fault)\n",
    "u_input_fault = u_input\n",
    "print(u_input_fault)\n",
    "u_input_fault[0] =  0\n",
    "print(u_input_fault)\n",
    "Torq_fault = np.matmul(CA_fault, u_input_fault)\n",
    "print(Torq_fault)"
   ]
  }
 ],
 "metadata": {
  "kernelspec": {
   "display_name": "Python 3",
   "language": "python",
   "name": "python3"
  },
  "language_info": {
   "codemirror_mode": {
    "name": "ipython",
    "version": 3
   },
   "file_extension": ".py",
   "mimetype": "text/x-python",
   "name": "python",
   "nbconvert_exporter": "python",
   "pygments_lexer": "ipython3",
   "version": "3.7.9"
  },
  "orig_nbformat": 4,
  "vscode": {
   "interpreter": {
    "hash": "1f2ac25b4a6d870602abfa5d74e7d6f1ae274ba9e86645830384575c0e5c89f3"
   }
  }
 },
 "nbformat": 4,
 "nbformat_minor": 2
}
